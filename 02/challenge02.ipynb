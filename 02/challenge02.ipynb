{
 "cells": [
  {
   "cell_type": "markdown",
   "metadata": {},
   "source": [
    "<img src=\"https://i.ibb.co/hcrKx44/Weekly-Challenge-Banner.png\" >"
   ]
  },
  {
   "cell_type": "markdown",
   "metadata": {},
   "source": [
    "# Challenge 2\n",
    "## Description\n",
    "\n",
    "Welcome to the second challenge!\n",
    "\n",
    "This challenge contains a single problem. Your performance will be determined on: the number of tests you pass, the efficiency and the originality of your solution."
   ]
  },
  {
   "cell_type": "markdown",
   "metadata": {},
   "source": [
    "## Task 2: polynomial expansion\n",
    "\n",
    "You've just got a student job in a Swiss high school, where you will support Maths teachers in teaching classes and grading homework. Your first task is to grade a test on [polynomial expansion](https://en.wikipedia.org/wiki/Polynomial_expansion). However, the exam solutions are not yet available, so you decide to use your Python skills to speed up the process.\n",
    "\n",
    "Write a function that takes a polynomial as an input (in string format), and returns its expanded version.\n",
    "\n",
    "Ex: for \"(x+y)^2\", the function should return a list of tuples: [(1, 'x^2'), (1, 'y^2'), (2, 'x*y')] (or any combination of those factors).\n",
    "\n",
    "In other words, each tuple should have the following format: (coefficient, term). \n",
    "\n",
    "Notes:\n",
    "* Here, we will use '^' to denote exponentiation.\n",
    "* For terms without symbols, use '1'. Ex: '2*(x+1)' should return [(2, '1'), (2, 'x')]"
   ]
  },
  {
   "cell_type": "code",
   "execution_count": 1,
   "metadata": {},
   "outputs": [],
   "source": [
    "#################################################\n",
    "############# YOUR CODE STARTS HERE #############\n",
    "#################################################\n",
    "\n",
    "def expand_polynomial(poly):\n",
    "    \"\"\"\n",
    "    Parameters\n",
    "    --------\n",
    "    poly: str\n",
    "        A factorized polynomial, e.g., '(x+y)^2'\n",
    "    \n",
    "    Returns\n",
    "    --------\n",
    "    str\n",
    "        The expanded version of the polynomial, e.g., 'x^2 + y^2 + 2*x*y'\n",
    "    \"\"\"\n",
    "    raise NotImplementedError\n",
    "\n",
    "#################################################\n",
    "############## YOUR CODE ENDS HERE ##############\n",
    "#################################################"
   ]
  },
  {
   "cell_type": "code",
   "execution_count": null,
   "metadata": {},
   "outputs": [],
   "source": [
    "test_inputs = [\n",
    "    '(x+y)^2',\n",
    "    '(x-y)^2',\n",
    "    '(x+y)^3',\n",
    "    '(x-y)^3',\n",
    "    '(x+y)^6',\n",
    "    '(x+y+z)^2',\n",
    "    '(x-3)*(x^3+5*x-2)',\n",
    "    '(2*x+3)*(3*x^2-x+4)',\n",
    "    '(7*x^2 + 5*x - 1)*(6*x^3 - 3*x^2 + 2*x + 4)',\n",
    "    '-3*y^2*(2*x+5*y+4*z)'\n",
    "]\n",
    "\n",
    "test_outputs = [\n",
    "    [(1, 'x^2'), (1, 'y^2'), (2, 'x*y')],\n",
    "    [(1, 'x^2'), (1, 'y^2'), (-2, 'x*y')],\n",
    "    [(1, 'x^3'), (1, 'y^3'), (3, 'x*y^2'), (3, 'x^2*y')],\n",
    "    [(1, 'x^3'), (-1, 'y^3'), (-3, 'x^2*y'), (3, 'x*y^2')],\n",
    "    [(1, 'x^6'), (1, 'y^6'), (6, 'x*y^5'), (6, 'x^5*y'), (15, 'x^2*y^4'), (15, 'x^4*y^2'), (20, 'x^3*y^3')],\n",
    "    [(1, 'x^2'), (1, 'y^2'), (1, 'z^2'), (2, 'x*y'), (2, 'x*z'), (2, 'y*z')],\n",
    "    [(6, '1'), (1, 'x^4'), (-17, 'x'), (-3, 'x^3'), (5, 'x^2')],\n",
    "    [(12, '1'), (5, 'x'), (6, 'x^3'), (7, 'x^2')],\n",
    "    [(-4, '1'), (-7, 'x^3'), (9, 'x^4'), (18, 'x'), (41, 'x^2'), (42, 'x^5')],\n",
    "    [(-15, 'y^3'), (-12, 'y^2*z'), (-6, 'x*y^2')]\n",
    "]\n",
    "\n",
    "for i, (input_, output_) in enumerate(zip(test_inputs, test_outputs)):\n",
    "    answer = expand_polynomial(input_)\n",
    "    if set(answer) == set(output_):\n",
    "        print(f'\\033[92mPassed test {i+1}\\033[0m')\n",
    "    else:\n",
    "        print(f'\\033[91mFailed test {i+1}\\033[0m')\n",
    "        print(f'Input: {input_}')\n",
    "        print(f'Output: {answer}')\n",
    "        print(f'Expected: {output_}')\n",
    "\n",
    "    print()"
   ]
  },
  {
   "cell_type": "markdown",
   "metadata": {},
   "source": [
    "## Submission\n",
    "\n",
    "Submit **your code** on the following link: https://forms.gle/DrP7Y6HkpTpzrGav6"
   ]
  }
 ],
 "metadata": {
  "kernelspec": {
   "display_name": "Python 3.8.12 ('dag')",
   "language": "python",
   "name": "python3"
  },
  "language_info": {
   "codemirror_mode": {
    "name": "ipython",
    "version": 3
   },
   "file_extension": ".py",
   "mimetype": "text/x-python",
   "name": "python",
   "nbconvert_exporter": "python",
   "pygments_lexer": "ipython3",
   "version": "3.8.12"
  },
  "orig_nbformat": 4,
  "vscode": {
   "interpreter": {
    "hash": "cc4a8b30d91d9a542d11ae80c61fa5024f663948161f8d60e4c1b7b3b4575163"
   }
  }
 },
 "nbformat": 4,
 "nbformat_minor": 2
}
