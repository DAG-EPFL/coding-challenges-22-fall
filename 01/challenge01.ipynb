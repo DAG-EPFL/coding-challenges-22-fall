{
 "cells": [
  {
   "cell_type": "markdown",
   "metadata": {},
   "source": [
    "<img src=\"https://i.ibb.co/hcrKx44/Weekly-Challenge-Banner.png\" >"
   ]
  },
  {
   "cell_type": "markdown",
   "metadata": {},
   "source": [
    "# Challenge 1\n",
    "## Description\n",
    "\n",
    "Welcome to the first challenge!\n",
    "\n",
    "This challenge features two \"mini-problems\". To complete the challenge, solve ALL the problems with the **shortest** possible code. Your performance will be based on the total amount of characters (i.e., less is better) used for both problems. Comments will not count towards the total amount of characters used.\n",
    "\n",
    "N.B.: all imports are included in the character count. For example: a function that calls \"datetime\" needs \"import datetime\", meaning that the \"import datetime\" characters will be counted."
   ]
  },
  {
   "cell_type": "markdown",
   "metadata": {},
   "source": [
    "## Task 1: workdays until Christmas 2022\n",
    "You've barely started the semester but you're already thinking about your next holidays: Christmas. In the middle of a complicated proof during an analysis lecture, you wonder: _how many work days do I have left?_\n",
    "\n",
    "After quickly figuring out the nuts and bolts of the proof on the board (congrats!), you decide to use your programming skills to solve this important problem.\n",
    "\n",
    "Write a function that computes the number of workdays between a given start date and Christmas 2022 (December 25th), start date included. The start date is guaranteed to be in 2022 and before December 24th. Here, we choose to ignore special holidays and assume that workdays are simply weekdays. Therefore, your task is to find the number of days between a given date and Christmas 2022 without counting Saturdays and Sundays. \n",
    "\n",
    "Date format: **DD-MM**"
   ]
  },
  {
   "cell_type": "code",
   "execution_count": 1,
   "metadata": {},
   "outputs": [],
   "source": [
    "#################################################\n",
    "############# YOUR CODE STARTS HERE #############\n",
    "#################################################\n",
    "\n",
    "def workdays_until_xmas(day):\n",
    "    \"\"\"\n",
    "    Parameters\n",
    "    --------\n",
    "    day: str\n",
    "        Day in DD-MM format\n",
    "    \n",
    "    Returns\n",
    "    --------\n",
    "    int\n",
    "        Number of workdays between `day` and xmas 2022\n",
    "    \"\"\"\n",
    "    raise NotImplementedError\n",
    "\n",
    "#################################################\n",
    "############## YOUR CODE ENDS HERE ##############\n",
    "#################################################"
   ]
  },
  {
   "cell_type": "code",
   "execution_count": null,
   "metadata": {},
   "outputs": [],
   "source": [
    "test_inputs = [\n",
    "    '17-12',\n",
    "    '16-11',\n",
    "    '31-10',\n",
    "    '19-09', \n",
    "    '01-08', \n",
    "    '14-07', \n",
    "    '21-06',\n",
    "    '04-05',\n",
    "    '01-04',\n",
    "    '14-03',\n",
    "    '14-02',\n",
    "    '01-01',\n",
    "]\n",
    "\n",
    "test_outputs = [\n",
    "    5,\n",
    "    28,\n",
    "    40,\n",
    "    70,\n",
    "    105,\n",
    "    117,\n",
    "    134,\n",
    "    168,\n",
    "    191,\n",
    "    205,\n",
    "    225,\n",
    "    255\n",
    "]\n",
    "\n",
    "for i, (input_, output_) in enumerate(zip(test_inputs, test_outputs)):\n",
    "    answer = workdays_until_xmas(input_)\n",
    "    if answer == output_:\n",
    "        print(f'\\033[92mPassed test {i+1}\\033[0m')\n",
    "    else:\n",
    "        print(f'\\033[91mFailed test {i+1}\\033[0m')\n",
    "        print(f'Input: {input_}')\n",
    "        print(f'Output: {answer}')\n",
    "        print(f'Expected: {output_}')\n",
    "\n",
    "    print()"
   ]
  },
  {
   "cell_type": "markdown",
   "metadata": {},
   "source": [
    "## Task 2: Christmas tree printer\n",
    "\n",
    "After lunch, you're now following a data science course where you learn about [decision trees](https://en.wikipedia.org/wiki/Random_forest). Yet, you still cannot stop thinking about going back home and getting cozy by a Christmas tree.\n",
    "\n",
    "Task: Print a size ascending range of Christmas trees using asterisks, ranging from size 3 to size 9 (9 included), with each tree being **separated by a blank line**. \n",
    "\n",
    "The smallest tree, of size 3, should look like this:\n",
    "```\n",
    "   *\n",
    "  ***\n",
    " *****\n",
    "   *\n",
    "```\n",
    "\n",
    "The biggest tree, of size 9, should look like this:\n",
    "```\n",
    "         *\n",
    "        ***\n",
    "       *****\n",
    "      *******\n",
    "     *********\n",
    "    ***********\n",
    "   *************\n",
    "  ***************\n",
    " *****************\n",
    "         *\n",
    "```\n",
    "\n",
    "Note that each line starts with a space at the beginning.\n",
    "\n",
    "The desired output is available in the text file (```christmas_trees.txt```) for further reference. Of course, your solution should not use any text file or load any URLs :)\n",
    "\n",
    "This challenge is one of the classic [code golf](https://en.wikipedia.org/wiki/Code_golf) challenges from [code.golf](code.golf)!"
   ]
  },
  {
   "cell_type": "code",
   "execution_count": 2,
   "metadata": {},
   "outputs": [],
   "source": [
    "#################################################\n",
    "############# YOUR CODE STARTS HERE #############\n",
    "#################################################\n",
    "\n",
    "def christmas_trees():\n",
    "    \"\"\"\n",
    "    Prints all christmas trees from size 3 to 9, 9 included.\n",
    "\n",
    "    No need to return anything, just print the trees!\n",
    "    \"\"\"\n",
    "    print()\n",
    "\n",
    "#################################################\n",
    "############## YOUR CODE ENDS HERE ##############\n",
    "#################################################"
   ]
  },
  {
   "cell_type": "code",
   "execution_count": null,
   "metadata": {},
   "outputs": [],
   "source": [
    "import contextlib\n",
    "import io\n",
    "\n",
    "f = io.StringIO()\n",
    "with contextlib.redirect_stdout(f):\n",
    "    christmas_trees()\n",
    "answer = '\\n'.join([line.rstrip() for line in f.getvalue().rstrip().splitlines()]) # Remove trailing whitespaces at each line\n",
    "\n",
    "with open('xmas_trees_sol.txt', 'r') as f:\n",
    "    expected = f.read()\n",
    "\n",
    "if answer == expected:\n",
    "    print(f'\\033[92mPassed test\\033[0m')\n",
    "    \n",
    "    print()\n",
    "    print(answer)\n",
    "else:\n",
    "    print(f'\\033[91mFailed test\\033[0m')\n",
    "    print(f'Output:')\n",
    "    [print(tree, end='\\n\\n') for tree in answer]\n",
    "    \n",
    "    print(f'Expected:')\n",
    "    [print(tree, end='\\n\\n') for tree in expected]\n",
    "    "
   ]
  },
  {
   "cell_type": "markdown",
   "metadata": {},
   "source": [
    "## Submission\n",
    "\n",
    "Submit **your code** on the following link: https://forms.gle/y5ZJjwyQB3GsvCup7"
   ]
  }
 ],
 "metadata": {
  "kernelspec": {
   "display_name": "Python 3.8.12 ('dag')",
   "language": "python",
   "name": "python3"
  },
  "language_info": {
   "codemirror_mode": {
    "name": "ipython",
    "version": 3
   },
   "file_extension": ".py",
   "mimetype": "text/x-python",
   "name": "python",
   "nbconvert_exporter": "python",
   "pygments_lexer": "ipython3",
   "version": "3.8.12"
  },
  "vscode": {
   "interpreter": {
    "hash": "cc4a8b30d91d9a542d11ae80c61fa5024f663948161f8d60e4c1b7b3b4575163"
   }
  }
 },
 "nbformat": 4,
 "nbformat_minor": 4
}
