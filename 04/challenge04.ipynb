{
 "cells": [
  {
   "cell_type": "markdown",
   "metadata": {},
   "source": [
    "<img src=\"https://i.ibb.co/hcrKx44/Weekly-Challenge-Banner.png\" >"
   ]
  },
  {
   "cell_type": "markdown",
   "metadata": {},
   "source": [
    "# Challenge 4\n",
    "## Description\n",
    "\n",
    "Welcome to the fourth challenge!\n",
    "\n",
    "This challenge was adapted from [Advent of Code](https://adventofcode.com)—if you like these challenges, you'll love Advent of Code (it's an advent calendar with coding challenges!)."
   ]
  },
  {
   "cell_type": "markdown",
   "metadata": {},
   "source": [
    "## Task: it's all about [DAGs](https://www.dag-epfl.ch/) (directed acyclic graphs!)\n",
    "\n",
    "You have just managed to successfully complete the last challenge and decide to head back to EPFL for a coffee at [Sat](https://satellite.bar/). Unfortunately, they are having trouble with their new espresso machine. Indeed, they decided to order it from a Swedish furniture store and the machine came unassembled! They are scratching their head because the assembly instructions included with the espresso machine kit are all scrambled up; it is unclear which step to follow first. You decide to help and take a look at the assembly sheet.\n",
    "\n",
    "The instructions specify a series of steps and requirements about which steps must be finished before others can begin (your puzzle input). Each step is designated by a single letter. For example, suppose you have the following instructions:\n",
    "\n",
    "    Step C must be finished before step A can begin.\n",
    "    Step C must be finished before step F can begin.\n",
    "    Step A must be finished before step B can begin.\n",
    "    Step A must be finished before step D can begin.\n",
    "    Step B must be finished before step E can begin.\n",
    "    Step D must be finished before step E can begin.\n",
    "    Step F must be finished before step E can begin.\n",
    "    \n",
    "Visually, these requirements look like this:\n",
    "\n",
    "      -->A--->B--\n",
    "     /    \\      \\\n",
    "    C      -->D----->E\n",
    "     \\           /\n",
    "      ---->F-----\n",
    "\n",
    "Your first goal is to determine the order in which the steps should be completed. If more than one step is ready, choose the step which is first alphabetically. In this example, the steps would be completed as follows:\n",
    "\n",
    "- Only C is available, and so it is done first.\n",
    "- Next, both A and F are available. A is first alphabetically, so it is done next.\n",
    "- Then, even though F was available earlier, steps B and D are now also available, and B is the first alphabetically of the three.\n",
    "- After that, only D and F are available. E is not available because only some of its prerequisites are complete. Therefore, D is completed next.\n",
    "- F is the only choice, so it is done next.\n",
    "- Finally, E is completed.\n",
    "\n",
    "So, in this example, the correct order is CABDFE.\n",
    "\n",
    "Your task is to write a function that, given an array of instructions, returns the correct order in which the tasks have to completed."
   ]
  },
  {
   "cell_type": "markdown",
   "metadata": {},
   "source": [
    "## Your code"
   ]
  },
  {
   "cell_type": "code",
   "execution_count": null,
   "metadata": {},
   "outputs": [],
   "source": [
    "#################################################\n",
    "############# YOUR CODE STARTS HERE #############\n",
    "#################################################\n",
    "\n",
    "def get_order(instructions: []):\n",
    "    raise NotImplementedError\n",
    "\n",
    "#################################################\n",
    "############## YOUR CODE ENDS HERE ##############\n",
    "#################################################"
   ]
  },
  {
   "cell_type": "markdown",
   "metadata": {},
   "source": [
    "## Test your code"
   ]
  },
  {
   "cell_type": "code",
   "execution_count": null,
   "metadata": {},
   "outputs": [],
   "source": [
    "# Validation\n",
    "data = \"\"\"Step C must be finished before step A can begin.\n",
    "Step C must be finished before step F can begin.\n",
    "Step A must be finished before step B can begin.\n",
    "Step A must be finished before step D can begin.\n",
    "Step B must be finished before step E can begin.\n",
    "Step D must be finished before step E can begin.\n",
    "Step F must be finished before step E can begin.\"\"\"\n",
    "instructions = [line.rstrip() for line in data.split(\"\\n\")]\n",
    "output = \"CABDFE\"\n",
    "\n",
    "answer = get_order(instructions)\n",
    "\n",
    "# Check answer\n",
    "if answer == output:\n",
    "    print(f'\\033[92mPassed test \\033[0m')\n",
    "else:\n",
    "    print(f'\\033[91mFailed test \\033[0m')\n",
    "    print(f'Output: {answer}')\n",
    "    print(f'Expected: {output}')"
   ]
  },
  {
   "cell_type": "markdown",
   "metadata": {},
   "source": [
    "## Submission\n",
    "\n",
    "Submit the **order in which the instructions given in `input.txt` have to be completed** (as a string, e.g., `FJNRAXUOPIYQ`) on the following link: [https://forms.gle/sDnAKhpa7thdgVbM6](https://forms.gle/sDnAKhpa7thdgVbM6)"
   ]
  },
  {
   "cell_type": "code",
   "execution_count": null,
   "metadata": {},
   "outputs": [],
   "source": [
    "with open(\"input.txt\", \"r\") as f:\n",
    "    data = [line.rstrip() for line in f.readlines()]\n",
    "    \n",
    "print(get_order(data))"
   ]
  }
 ],
 "metadata": {
  "kernelspec": {
   "display_name": "Python 3.8.12 ('dag')",
   "language": "python",
   "name": "python3"
  },
  "language_info": {
   "codemirror_mode": {
    "name": "ipython",
    "version": 3
   },
   "file_extension": ".py",
   "mimetype": "text/x-python",
   "name": "python",
   "nbconvert_exporter": "python",
   "pygments_lexer": "ipython3",
   "version": "3.8.12"
  },
  "vscode": {
   "interpreter": {
    "hash": "cc4a8b30d91d9a542d11ae80c61fa5024f663948161f8d60e4c1b7b3b4575163"
   }
  }
 },
 "nbformat": 4,
 "nbformat_minor": 4
}
