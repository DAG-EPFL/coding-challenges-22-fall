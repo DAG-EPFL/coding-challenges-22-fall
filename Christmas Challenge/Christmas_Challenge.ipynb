{
 "cells": [
  {
   "cell_type": "markdown",
   "metadata": {},
   "source": [
    "<img src=\"https://i.ibb.co/hcrKx44/Weekly-Challenge-Banner.png\" >"
   ]
  },
  {
   "cell_type": "markdown",
   "metadata": {},
   "source": [
    "# Welcome to the Christmas challenge of DAG: Lotto Time for Qatar World Cup 2022!\n",
    "## Description\n",
    "\n",
    "If you are a football fan or a data science geek, this challenge is the perfect chance for you to try out your data science skills and compete with others. \n",
    "\n",
    "In this challenge, you are given the dataset of all international soccer matches in past 30 years, and your task is to train a classifier to predict the champion of Qatar World Cup 2022. "
   ]
  },
  {
   "cell_type": "markdown",
   "metadata": {},
   "source": [
    "## Data\n",
    "You can find the dataset [here](https://drive.google.com/file/d/1RsOBAOqsJzoIwzTColFl5RinxUKOktLx/view?usp=share_link). Below is a brief description:\n",
    "\n",
    "This dataset contains the information of all international soccer matches in the past 30 years:\n",
    "- date: the date on which the match was held\n",
    "- home_team: the full country name of the home team\n",
    "- away_team: the full country name of the away team \n",
    "- home_team_continent: the continent where the home team is from \n",
    "- away_team_continent: the continent where the away team is from \n",
    "- home_team_fifa_rank: the FIFA ranking of the home team at the time the match was held\n",
    "- away_team_fifa_rank: the FIFA ranking of the away team at the time the match was held\n",
    "- home_team_total_fifa_points: the FIFA points of the home team at the time the match was held\n",
    "- away_team_total_fifa_points: the FIFA points of the away team at the time the match was held\n",
    "- home_team_score: number of score by home team in the match\n",
    "- away_team_score: number of score by away team in the match\n",
    "- tournament: the tournament type of the match\n",
    "- city: the city where the match was held\n",
    "- country: the country where the match was held\n",
    "- neutral_location: Binary, True if neither of the two teams are home; otherwise False\n",
    "- shoot_out: whether there is shoot out during the match\n",
    "- home_team_result: Win/Lose/Draw indicating the result of the game\n",
    "\n",
    "If you would like to have more features that can be helpful for the classifier, you could also **add other data resources**. [Here](https://drive.google.com/drive/folders/150rFNPpsuvnm1Ez3dAoA3zk3mO7sH5ZK?usp=share_link) you can find more related data that could be considered in your model: \n",
    "- AI Match Results 150years_appended_WC2022.csv: all international soccer matches in the past 150 years\n",
    "- fifa_rankings_past_and_present.csv: FIFA world ranking from 1992 to 2022\n",
    "- historic_world_cup_performance.csv: world cup results from 1930 to 2018"
   ]
  },
  {
   "cell_type": "markdown",
   "metadata": {},
   "source": [
    "## Task\n",
    "Your task is to build a ML model to predict the champion of the Qatar World Cup, based on all the historical data you have in hand. Submission of prediction is allowed **until the kickoff of the final game** (December 18, 4:00 PM in central Europe).\n",
    "\n",
    "*Bonus*: It is encouraged that you further train a regression model to predict the **score** of the final game. Those who have predicted the score correctly have larger chance to win the prize."
   ]
  },
  {
   "cell_type": "markdown",
   "metadata": {},
   "source": [
    "## Submission and Evaluation\n",
    "Please submit both your **prediction** (Champion country name & score if possible) and your **code** [here](https://forms.gle/hSLwUqn1yuXP3Xwm8). Reproducibility of your code is important, in order to avoid random guessing. Winners will be announced shortly after the end of the game and will be awarded with coupons of Holy Cow. We will not only consider the final prediction you submitted but also the accuracy/loss of your ML model. You might be invited to later share your method with the community if you've done an amazing job."
   ]
  }
 ],
 "metadata": {
  "kernelspec": {
   "display_name": "Python 3.8.12 ('dag')",
   "language": "python",
   "name": "python3"
  },
  "language_info": {
   "codemirror_mode": {
    "name": "ipython",
    "version": 3
   },
   "file_extension": ".py",
   "mimetype": "text/x-python",
   "name": "python",
   "nbconvert_exporter": "python",
   "pygments_lexer": "ipython3",
   "version": "3.8.12"
  },
  "vscode": {
   "interpreter": {
    "hash": "cc4a8b30d91d9a542d11ae80c61fa5024f663948161f8d60e4c1b7b3b4575163"
   }
  }
 },
 "nbformat": 4,
 "nbformat_minor": 4
}
