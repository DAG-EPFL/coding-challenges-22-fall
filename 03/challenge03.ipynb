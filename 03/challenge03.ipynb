{
 "cells": [
  {
   "cell_type": "markdown",
   "metadata": {},
   "source": [
    "<img src=\"https://i.ibb.co/hcrKx44/Weekly-Challenge-Banner.png\">"
   ]
  },
  {
   "cell_type": "markdown",
   "metadata": {},
   "source": [
    "# Challenge 3\n",
    "## Description\n",
    "\n",
    "Welcome to the third challenge!\n",
    "\n",
    "This challenge contains an open problem. Your performance will be determined on the plausibility, the efficiency, and the originality of your solution."
   ]
  },
  {
   "cell_type": "markdown",
   "metadata": {},
   "source": [
    "## Task: Scraping Switzerland-related digital art\n",
    "\n",
    "It has been a few weeks since you arrived in Switzerland and you want to know a bit more about the country. While a simple Google Search would probably provide you with some valuable information, you decide to complicate things a bit and use another search engine: [lexica.art](lexica.art), the search engine of [Stable Diffusion] text-image pairs.\n",
    "\n",
    "Write a function that scrapes 50 images from the Lexica engine with the keyword \"Swiss\". Find the prompts that generated those images, and find the words that are the most frequency associated with the word \"Swiss\".\n",
    "\n",
    "Hints:\n",
    "* For web scraping: a [cool library](https://www.crummy.com/software/BeautifulSoup/) and some more [information](https://lexica.art/docs) about lexica.art\n",
    "* For language processing: https://www.nltk.org/ or https://spacy.io/\n",
    "\n",
    "More about Stable Diffusion:\n",
    "* An introduction: https://www.youtube.com/watch?v=yTAMrHVG1ew\n",
    "* The paper: https://arxiv.org/abs/2112.10752"
   ]
  },
  {
   "cell_type": "code",
   "execution_count": 1,
   "metadata": {},
   "outputs": [],
   "source": [
    "def scrape_lexica(query='swiss'):\n",
    "    \"\"\"Scrape lexica.art for images and find the prompts that generated those images\n",
    "\n",
    "    Parameters\n",
    "    ----------\n",
    "    query : str, optional\n",
    "        A search query, by default 'swiss'\n",
    "    \n",
    "    Return\n",
    "    --------\n",
    "    Iterable\n",
    "        A list or set of words or expressions that are associated with the word 'swiss'\n",
    "    \"\"\"\n",
    "    raise NotImplementedError"
   ]
  },
  {
   "cell_type": "markdown",
   "metadata": {},
   "source": [
    "## Submission\n",
    "\n",
    "Submit **your code** and **your list of words** on the following link: https://forms.gle/NE57TmAv7GiKSj4d6"
   ]
  }
 ],
 "metadata": {
  "kernelspec": {
   "display_name": "Python 3.8.12 ('dag')",
   "language": "python",
   "name": "python3"
  },
  "language_info": {
   "codemirror_mode": {
    "name": "ipython",
    "version": 3
   },
   "file_extension": ".py",
   "mimetype": "text/x-python",
   "name": "python",
   "nbconvert_exporter": "python",
   "pygments_lexer": "ipython3",
   "version": "3.8.12"
  },
  "orig_nbformat": 4,
  "vscode": {
   "interpreter": {
    "hash": "cc4a8b30d91d9a542d11ae80c61fa5024f663948161f8d60e4c1b7b3b4575163"
   }
  }
 },
 "nbformat": 4,
 "nbformat_minor": 2
}
